{
 "cells": [
  {
   "cell_type": "markdown",
   "metadata": {},
   "source": [
    "Reading the file(filtered from sql)\n"
   ]
  },
  {
   "cell_type": "code",
   "execution_count": null,
   "metadata": {},
   "outputs": [],
   "source": [
    "import pandas as pd\n",
    "\n",
    "df = pd.read_csv('ls_new.csv')\n",
    "\n",
    "df"
   ]
  },
  {
   "cell_type": "markdown",
   "metadata": {},
   "source": [
    "Removing Promo Items from the Dataset"
   ]
  },
  {
   "cell_type": "code",
   "execution_count": null,
   "metadata": {},
   "outputs": [],
   "source": [
    "five_for_one = [\n",
    "    'Swizzels Fruity Pops 8g',\n",
    "    'Swizzels Double Lollies 8.5g',\n",
    "    'Big Blue Candy',\n",
    "    'Vimto Original Lollipops',\n",
    "    'Dubble Bubble Gum Unit',\n",
    "    'Tootsie Roll 10g',\n",
    "    'Whacky Chew 10g / Cola/Raspberry',\n",
    "    'Whacky Chew 10g / Grape/Blueberry',\n",
    "    'Whacky Chew 10g / Vanilla/Strawberry',\n",
    "    'Whacky Chew 10g / Apple/Orange',\n",
    "    'Warheads Extreme Sour 4g',\n",
    "    'Samito Lollipops 6g / Cola',\n",
    "    'Samito Lollipops 6g / Yoghurt',\n",
    "    'Samito Lollipops 6g / Berry',\n",
    "    'Chupa Chups Centre / Shock 4g',\n",
    "    'Sherbet Tubs 4g',\n",
    "    'Burger Bubblegum 4g',\n",
    "    'Ka Bluey Sour Bubblegum 5g',\n",
    "    'Razzoo 11g (Mayceys) / Cola',\n",
    "    'Razzoo 11g (Mayceys) / Grape',\n",
    "    'Razzoo 11g (Mayceys) / Strawberry',\n",
    "    'Razzoo 11g (Mayceys) / Blue Raspberry',\n",
    "    'Mini Taffy Rope 8g',\n",
    "    'Trolli Sea Critter 9g',\n",
    "    'Ghouliez Liquid Centre / Strawberry',\n",
    "    'Ghouliez Liquid Centre / Blueberry',\n",
    "    'Ghouliez Liquid Centre / Grape',\n",
    "    'Fruit Candy Cane',\n",
    "    \"Super Tattoo\\'s\",\n",
    "    'Assorted Gummies Singles 12g',\n",
    "    'Dino Egg Bubblegum',\n",
    "    'Buzzy Crock Candy 4g',\n",
    "    'Destroyer Bubble Gum',\n",
    "    'Sweet Balls 10g',\n",
    "    'Vampire Scream Bubble Gum',\n",
    "    'Donkey Balls Bubble Gum',\n",
    "    'SpongeBob Fruits Single Pouch',\n",
    "    'Rockets (Single)',\n",
    "    'Camel Balls s5g',\n",
    "    \"Bubble Balls 6\\'s\",\n",
    "    'Swizzels Love Hearts mini 11g',\n",
    "    'Swizzels Drumstick 12g',\n",
    "    'Toxic Waste Original',\n",
    "    'Swizzels Luscious Lollies',\n",
    "    'Swizzels Curious Chews',\n",
    "    'Blue Ghost Balls',\n",
    "    'Camel Balls 5g',\n",
    "    'Toxic Waste Original / single unit'\n",
    "]\n"
   ]
  },
  {
   "cell_type": "code",
   "execution_count": null,
   "metadata": {},
   "outputs": [],
   "source": [
    "five_for_two = [\n",
    "    'York Peppermint Patties 13g',\n",
    "    'Super Hiper Acido Stick',\n",
    "    'Ice Lolly 12g',\n",
    "    'Jaw Breakers 22g',\n",
    "    'Minion Fruits Single Pouch',\n",
    "    'Ka Bluey Gum Stick 9g',\n",
    "    'Laffy Taffy Bites 10g',\n",
    "    'FizziX Lime 13g',\n",
    "    'Raging Sour Chews 12g / Sour Strawberry',\n",
    "    'Raging Sour Chews 12g / Sour Cola',\n",
    "    'Raging Sour Chews 12g / Sour Grape',\n",
    "    'Jumbo Sherbet Straw 15g',\n",
    "    'Gummy Food Unit',\n",
    "    'Gummy Ball 3D / Expressions',\n",
    "    'Gummy Ball 3D / Zombie',\n",
    "    'Gummy Ball 3D / Football',\n",
    "    'Gummy Ball 3D / Eyeball',\n",
    "    \"Hammer Candy Mini\\'s 20g\",\n",
    "    'Diamond Ring Pop 12g',\n",
    "    'Wacky Tape / Blueberry 15g',\n",
    "    'Wacky Tape / Green Apple',\n",
    "    'Wacky Tape / Strawberry 16g',\n",
    "    'Wacky Tape / Grape 15g',\n",
    "    'Sour Feet',\n",
    "    'Sour Brain Bubblegum',\n",
    "    'Shobowls 900ml',\n",
    "    'Candy Ring',\n",
    "    'Busters',\n",
    "    'Candy Bracelet 20pc',\n",
    "    'PEZ Assorted Refills',\n",
    "    'Trolli Gummy Takeaways / Burger 9g (Single)',\n",
    "    'Trolli Gummy Takeaways / Hot Dog 9g (Single)',\n",
    "    'Raging Sour Chews 12g / Sour Strawberry',\n",
    "    'Gummy Food / Unit'\n",
    "    \n",
    "    \n",
    "]\n"
   ]
  },
  {
   "cell_type": "code",
   "execution_count": null,
   "metadata": {},
   "outputs": [],
   "source": [
    "five_for_three = [\n",
    "    'Starburst & Skittles Variety Mini Packs',\n",
    "    'Vimto Chew Bar 18g',\n",
    "    'Swizzels Drumstick Original Chew Bar 18g',\n",
    "    'Chewy Hazard Grape 50g',\n",
    "    'Dobson Mega Lollipop Singles 22g / Cola',\n",
    "    'Dobson Mega Lollipop Singles 22g / Bubblegum',\n",
    "    'Dobson Mega Lollipop Singles 22g / Great British',\n",
    "    'Dobson Mega Lollipop Singles 22g / Blue Raspberry',\n",
    "    'Dobson Mega Lollipop Singles 22g / Rhubarb & Custard',\n",
    "    'Dobson Mega Lollipop Singles 22g / Traffic Light',\n",
    "    'Dobson Mega Lollipop Singles 22g / Tropical Fruit',\n",
    "    'Dobson Mega Lollipop Singles 22g / Tutti-frutti',\n",
    "    'Dobson Mega Lollipop Singles 22g / Watermelon',\n",
    "    'Dobson Mega Lollipop Singles 22g / Bonfire',\n",
    "    'Dobson Mega Lollipop Singles 22g / Candy Floss',\n",
    "    'Dobson Mega Lollipop Singles 22g / Cherry',\n",
    "    'Dobson Mega Lollipop Singles 22g / Marshmallow',\n",
    "    'Dobson Mega Lollipop Singles 22g / Apple',\n",
    "    'Ghouliez Chews 28g / Grape',\n",
    "    'Ghouliez Chews 28g / Cola',\n",
    "    'Ghouliez Chews 28g / Apple',\n",
    "    'Ghouliez Chews 28g / Blueberry',\n",
    "    'Ghouliez Chews 28g / Strawberry',\n",
    "    'Airhead Bars 15g',\n",
    "    \"Hershey\\'s Favourites Mini Bars\",\n",
    "    'MusicWhistle Pop 12g',\n",
    "    'Chupa Chups Cola Stix 10g',\n",
    "    'Swizzels Stinger Bar 18g',\n",
    "    'Swizzels Minions Tropical Fizz Chew Bar 18g',\n",
    "    'Mega Pop Mouth Painter 28g',\n",
    "    'Toxic Waste Nuclear Sludge Bar 20g / Blue Raspberry',\n",
    "    'Toxic Waste Nuclear Sludge Bar 20g / Sour Cherry',\n",
    "    'Lik a Brush Lollipop 14g / Red',\n",
    "    'Lik a Brush Lollipop 14g / Blue',\n",
    "    'TNT Sour Pop 17g',\n",
    "    'Bazooka Chew Bars 14g Raspberry',\n",
    "    'Bazooka Chew Bars 14g Strawberry',\n",
    "    'Swizzel Love Hearts Lipstick 6g',\n",
    "    'Fruiti Sour Rolls 18g',\n",
    "    'Wacky Sour Filled Chews 24g',\n",
    "    'Cadbury Magical Elves Single Elf 10g',\n",
    "    'Tootsie Pops 17g',\n",
    "    'JoJo Jelly Sour Sticks / Apple', \n",
    "    'JoJo Jelly Sour Sticks / Tutti Frutti',\n",
    "    'JoJo Jelly Sour Sticks / Raspberry',\n",
    "    'JoJo Jelly Sour Sticks / Strawberry',\n",
    "    'JoJo Jelly Sour Sticks / Cola',\n",
    "    'Zombie Chews 28g / Sour Blue Raspberry',\n",
    "    'Zombie Chews 28g / Sour Apple',\n",
    "    'Zombie Chews 28g / Grape',\n",
    "    'Zombie Chews 28g / Tutti Fruitti',\n",
    "    'Zombie Chews 28g / Cola',\n",
    "    \"Sour Faces Gumballs 5/35g\",\n",
    "    'Sour Bombs 30g / Apple 30g',\n",
    "    'Sour Bombs 30g / Grape 30g',\n",
    "    'Sour Bombs 30g / Strawberry 30g',\n",
    "    'Sour Bombs 30g / Blueberry 30g',\n",
    "    'Sour Bombs 30g / Mixed 30g',\n",
    "    'Raspberry Bars',\n",
    "    'Liquorice Bars',\n",
    "    'Freddo Frog / Single',\n",
    "    'Fizzers 12g / Sour Strawberry 12g Unit',\n",
    "    'Fizzers 12g / Creaming Soda 12g Unit',\n",
    "    'Fizzers 12g / Strawberry 12g Unit',\n",
    "    'Chupa Chups / Single',\n",
    "    'Cadbury Christmas Friends 100g',\n",
    "    'Halloween Monster Mix',\n",
    "    'Trolli Gummy Takeaways / Pizza 15.5g (Single)',\n",
    "    'Swizzels Refreshers Bars 18g / Original (Lemon)',\n",
    "    'Swizzels Refreshers Bars 18g / Strawberry',\n",
    "    'Swizzels Refreshers Bars 18g / Sour Apple',\n",
    "    'Bazooka Chew Bars 14g / Raspberry',\n",
    "    'Bazooka Chew Bars 14g / Blueberry'\n",
    "    \n",
    "    \n",
    "    \n",
    "    \n",
    "]\n"
   ]
  },
  {
   "cell_type": "code",
   "execution_count": null,
   "metadata": {},
   "outputs": [],
   "source": [
    "# Update the 'Details' column based on membership in the lists\n",
    "df.loc[df['Details'].isin(five_for_one), 'Details'] = '5for1'\n",
    "df.loc[df['Details'].isin(five_for_two), 'Details'] = '5for2'\n",
    "df.loc[df['Details'].isin(five_for_three), 'Details'] = '5for3'"
   ]
  },
  {
   "cell_type": "code",
   "execution_count": null,
   "metadata": {},
   "outputs": [],
   "source": [
    "df"
   ]
  },
  {
   "cell_type": "code",
   "execution_count": null,
   "metadata": {},
   "outputs": [],
   "source": [
    "items_to_remove = ['Paper Checkout Bags','Discount', 'Clearance']\n",
    "\n",
    "\n",
    "filtered_df = df[~df['Details'].isin(items_to_remove)]"
   ]
  },
  {
   "cell_type": "code",
   "execution_count": null,
   "metadata": {},
   "outputs": [],
   "source": []
  },
  {
   "cell_type": "code",
   "execution_count": null,
   "metadata": {},
   "outputs": [],
   "source": [
    "sales_line_df = filtered_df[['ReceiptNumber', 'Details']]"
   ]
  },
  {
   "cell_type": "code",
   "execution_count": null,
   "metadata": {},
   "outputs": [],
   "source": [
    "# Convert the transaction data into a one-hot encoded format\n",
    "# Get unique items\n",
    "unique_items = sales_line_df['Details'].unique()\n",
    "# Transform to Table Format (One-Hot Encoding)\n",
    "df_retail_txn_table = sales_line_df.pivot_table(index='ReceiptNumber', columns='Details', aggfunc='size', fill_value=0)\n",
    "df_retail_txn_table"
   ]
  },
  {
   "cell_type": "code",
   "execution_count": null,
   "metadata": {},
   "outputs": [],
   "source": [
    "# You can see we have the count, which may be >1 for some cases. We'll change this to binary to align with the format.\n",
    "df_retail_txn_table = (df_retail_txn_table > 0).astype(int) # This one sets all 1+ values to True & convert it to 1\n",
    "df_retail_txn_table"
   ]
  },
  {
   "cell_type": "code",
   "execution_count": null,
   "metadata": {},
   "outputs": [],
   "source": [
    "# We will first convert the DataFrame to have Boolean (True/False) instead of 1/0\n",
    "df_retail_final=(df_retail_txn_table > 0)\n",
    "df_retail_final"
   ]
  },
  {
   "cell_type": "code",
   "execution_count": null,
   "metadata": {},
   "outputs": [],
   "source": [
    "! pip install mlxtend"
   ]
  },
  {
   "cell_type": "code",
   "execution_count": null,
   "metadata": {},
   "outputs": [],
   "source": [
    "# Import necessary libraries\n",
    "import pandas as pd\n",
    "from mlxtend.frequent_patterns import apriori\n",
    "from mlxtend.frequent_patterns import association_rules\n",
    "import seaborn as sns"
   ]
  },
  {
   "cell_type": "code",
   "execution_count": null,
   "metadata": {},
   "outputs": [],
   "source": [
    "# Apply the Apriori algorithm to find frequent itemsets\n",
    "min_support = 0.001  # Minimum support threshold - change this number and run again\n",
    "frequent_itemsets = apriori(df_retail_final, min_support=min_support, use_colnames=True)\n",
    "frequent_itemsets"
   ]
  },
  {
   "cell_type": "code",
   "execution_count": null,
   "metadata": {},
   "outputs": [],
   "source": [
    "# Discover association rules\n",
    "min_confidence = 0.001  # Minimum confidence threshold\n",
    "rules = association_rules(frequent_itemsets, metric='confidence', min_threshold=min_confidence)\n",
    "rules"
   ]
  },
  {
   "cell_type": "code",
   "execution_count": null,
   "metadata": {},
   "outputs": [],
   "source": [
    "rules.head(50)"
   ]
  },
  {
   "cell_type": "code",
   "execution_count": null,
   "metadata": {},
   "outputs": [],
   "source": [
    "# Let us compile a final list with some filter, calculation & sorting\n",
    "final_rules=rules[(rules['lift']>1)&(rules['support']>=0.001)&(rules['confidence']>=0.4)]\n",
    "# Determine number of items in X => predicting number of items in Y\n",
    "final_rules=final_rules.copy() # this step creates an independent list instead of a view on rules from above\n",
    "# We capture the number of items in the list of each antecedent/consequent set using 'len' function for each row\n",
    "final_rules['antecedent_count']=final_rules['antecedents'].apply(len)\n",
    "final_rules['consequent_count']=final_rules['consequents'].apply(len) #X\n",
    "\n",
    "# Apply some rounding and sorting on Lift\n",
    "final_rules=round(final_rules,2).sort_values(by=['confidence', 'lift'], ascending=[False, False])\n",
    "\n",
    "# Preserve relevant columns only\n",
    "final_rules=final_rules[['antecedents', 'antecedent_count', 'consequents', 'consequent_count', 'support', 'confidence', 'lift']]\n",
    "final_rules"
   ]
  },
  {
   "cell_type": "code",
   "execution_count": null,
   "metadata": {},
   "outputs": [],
   "source": [
    "final_rules.to_csv('final_rules_binned.csv')"
   ]
  },
  {
   "cell_type": "code",
   "execution_count": null,
   "metadata": {},
   "outputs": [],
   "source": [
    "for index, row in final_rules.head(100).iterrows():\n",
    "  antecedents=' =+= '.join(list(row['antecedents']))\n",
    "  consequents=' =+= '.join(list(row['consequents']))\n",
    "  rule_statement='If customer buys '+antecedents+', they are '+str(row['confidence'] * 100)+ \\\n",
    "  '% likely to buy '+consequents+' - this is '+str(row['lift'])+' times more likely than random chance.'\n",
    "  print(rule_statement)\n"
   ]
  }
 ],
 "metadata": {
  "kernelspec": {
   "display_name": "base",
   "language": "python",
   "name": "python3"
  },
  "language_info": {
   "codemirror_mode": {
    "name": "ipython",
    "version": 3
   },
   "file_extension": ".py",
   "mimetype": "text/x-python",
   "name": "python",
   "nbconvert_exporter": "python",
   "pygments_lexer": "ipython3",
   "version": "3.10.9"
  }
 },
 "nbformat": 4,
 "nbformat_minor": 2
}
