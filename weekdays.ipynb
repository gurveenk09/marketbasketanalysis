{
 "cells": [
  {
   "cell_type": "code",
   "execution_count": null,
   "metadata": {},
   "outputs": [],
   "source": [
    "import pandas as pd\n",
    "\n",
    "df = pd.read_csv('ls_new.csv')\n",
    "\n",
    "df"
   ]
  },
  {
   "cell_type": "code",
   "execution_count": null,
   "metadata": {},
   "outputs": [],
   "source": [
    "df.info()"
   ]
  },
  {
   "cell_type": "code",
   "execution_count": null,
   "metadata": {},
   "outputs": [],
   "source": [
    "# Convert 'date' column to datetime\n",
    "df['Date'] = pd.to_datetime(df['Date'])"
   ]
  },
  {
   "cell_type": "code",
   "execution_count": null,
   "metadata": {},
   "outputs": [],
   "source": [
    "#checking if it changed to datetime\n",
    "df.info()"
   ]
  },
  {
   "cell_type": "code",
   "execution_count": null,
   "metadata": {},
   "outputs": [],
   "source": [
    "df.head()"
   ]
  },
  {
   "cell_type": "code",
   "execution_count": null,
   "metadata": {},
   "outputs": [],
   "source": [
    "# Sort the DataFrame by 'date' in ascending order\n",
    "df = df.sort_values(by='Date')"
   ]
  },
  {
   "cell_type": "code",
   "execution_count": null,
   "metadata": {},
   "outputs": [],
   "source": [
    "df"
   ]
  },
  {
   "cell_type": "markdown",
   "metadata": {},
   "source": [
    "### Finding weekends"
   ]
  },
  {
   "cell_type": "code",
   "execution_count": null,
   "metadata": {},
   "outputs": [],
   "source": [
    "df['day_of_week'] = df['Date'].dt.day_name()\n",
    "\n"
   ]
  },
  {
   "cell_type": "code",
   "execution_count": null,
   "metadata": {},
   "outputs": [],
   "source": [
    "df"
   ]
  },
  {
   "cell_type": "code",
   "execution_count": null,
   "metadata": {},
   "outputs": [],
   "source": [
    "# Create a subset of DataFrame where the day of the week is Saturday or Sunday\n",
    "weekdays = df[~df['day_of_week'].isin(['Saturday', 'Sunday'])]\n"
   ]
  },
  {
   "cell_type": "code",
   "execution_count": null,
   "metadata": {},
   "outputs": [],
   "source": [
    "#trying to find the number of transactions during last school holidays\n",
    "weekdays['ReceiptNumber'].nunique()"
   ]
  },
  {
   "cell_type": "code",
   "execution_count": null,
   "metadata": {},
   "outputs": [],
   "source": [
    "promo_items = ['Destroyer Bubble Gum', 'Ghouliez Chews 28g / Cola', 'Ghouliez Chews 28g / Blueberry', 'Ghouliez Chews 28g / Grape',\n",
    "               'Ghouliez Chews 28g / Strawberry', 'Lik a Brush Lollipop 14g / Blue', 'Whacky Chew 10g / Vanilla/Strawberry', \n",
    "               'Ghouliez Liquid Centre / Strawberry', 'Razzoo 11g (Mayceys) / Blue Raspberry', 'Razzoo 11g (Mayceys) / Grape', \n",
    "               'Camel Balls 5g', 'Ghouliez Liquid Centre / Grape', 'Tootsie Roll 10g', 'Samito Lollipops 6g / Yoghurt', \n",
    "               'Buzzy Crock Candy 4g', 'Trolli Sea Critter 9g', 'Toxic Waste Original / single unit', \n",
    "               'Ghouliez Liquid Centre / Blueberry', 'Trolli Gummy Takeaways / Burger 9g (Single)', \n",
    "               'Trolli Gummy Takeaways / Hot Dog 9g (Single)', 'Sherbet Tubs 4g', 'Snakes (Manufacturers Clearance) / 500g', \n",
    "               'Rainbow Gummy Seconds 500g (Manufacturers Clearance)', 'Toxic Waste Nuclear Sludge Bar 20g / Blue Raspberry', \n",
    "               'Chupa Chups / Single', 'Orange & Lemon Slices 500g (Manufacturers Clearance)', 'Sour Mix Seconds 500g', \n",
    "               'Whacky Chew 10g / Cola/Raspberry', 'Raging Sour Chews 12g / Sour Grape', 'Big Blue Candy', \n",
    "               'Samito Lollipops 6g / Cola', 'Samito Lollipops 6g / Berry', 'Whacky Chew 10g / Apple/Orange', \n",
    "               'Raging Sour Chews 12g / Sour Strawberry', 'Ghouliez Chews 28g / Apple', 'Mega Pop Mouth Painter 28g', \n",
    "               'Whacky Chew 10g / Grape/Blueberry', 'Goody Goody Gumdrops 500g (Manufacturers Clearance)',\n",
    "               'Airplane Seconds (Manufacturers Clearance) / 500g', 'Tootsie Pops 17g', 'Millions / Banana 40g', \n",
    "               'Vimto Chew Bar 18g', 'Raspberry Bars', 'TNT Sour Pop 17g',\n",
    "               \"Hershey's Favourites Mini Bars\",\n",
    "               'Dobson Mega Lollipop Singles 22g / Bonfire', 'Dobson Mega Lollipop Singles 22g / Great British', \n",
    "               'Dobson Mega Lollipop Singles 22g / Cola', 'Dobson Mega Lollipop Singles 22g / Marshmallow', \n",
    "               'Dobson Mega Lollipop Singles 22g / Tutti-frutti',\n",
    "               'Dobson Mega Lollipop Singles 22g / Apple', 'Apricot Nougat 500g (Manufacturers Clearance)', \n",
    "               'Coconut Ice Seconds (Manufacturers Clearance) / 500g', 'Chocolate Fudge (Manufacturers Clearance) / 350g',\n",
    "               'Airhead Bars 15g', 'Sour Bombs 30g / Mixed 30g', 'Freddo Frog / Single', 'Zombie Chews 28g / Tutti Fruitti', \n",
    "               'Wacky Tape / Green Apple', 'Sour Bombs 30g / Blueberry 30g', 'Milk Bottles Seconds 500g (Manufacturers Clearance)', \n",
    "               'Fondant Seconds (Manufacturers Clearance) / 500g', 'Razzoo 11g (Mayceys) / Cola', \n",
    "               'Dobson Mega Lollipop Singles 22g / Traffic Light', 'Dobson Mega Lollipop Singles 22g / Rhubarb & Custard', \n",
    "               'Razzoo 11g (Mayceys) / Strawberry', 'Warheads Extreme Sour 4g', 'Licorice Log Sherbet Fizz / Raspberry 40g', \n",
    "                'Dobson Mega Lollipop Singles 22g / Candy Floss', \n",
    "               'Dobson Mega Lollipop Singles 22g / Bubblegum', 'Ice Lolly 12g', \"Bubble Balls 6\\'s\", \n",
    "               'Sour Bombs 30g / Grape 30g', 'Vampire Scream Bubble Gum', 'Rock Candy 400g Manufacturers Clearance', \n",
    "               'Vampire Blood Gum 150g', 'Chocolate Mix Seconds 500g', 'Dobson Mega Lollipop Singles 22g / Tropical Fruit', \n",
    "               'Dobson Mega Lollipop Singles 22g / Watermelon', 'Swizzels Stinger Bar 18g', \n",
    "               'Swizzels Refreshers Bars 18g / Original (Lemon)', 'Swizzels Refreshers Bars 18g / Sour Apple', \n",
    "               'Swizzels Refreshers Bars 18g / Strawberry','York Peppermint Patties 13g', \n",
    "               'Russian Fudge (Manufacturers Clearance) / 350g', 'Jelly Beans Seconds (Manufacturers Clearance) / 500g', \n",
    "               'Dobson Mega Lollipop Singles 22g / Cherry', 'Trolli Gummy Takeaways / Pizza 15.5g (Single)', 'Sour Feet', \n",
    "               'Bazooka Chew Bars 14g / Strawberry', 'Bazooka Chew Bars 14g / Raspberry',\n",
    "               'Chocolate Fish Seconds 500g', 'Rainbow Party Mix 1kg (Manufacturers Clearance)', \n",
    "               'Lik a Brush Lollipop 14g / Red', 'Licorice Toffee in Apple Chew Wrapper 500g (Manufacturers Clearance)', \n",
    "               'Zombie Brain Sour Gum', \n",
    "               'Dino Egg Bubblegum', 'Terrific Party Mix 1kg (Manufacturers Clearance)', 'Liquorice Bars', 'Sweet Balls 10g', \n",
    "               'Terrific Sour Party Mix 1kg (Manufactures Clearance)', 'Sour Bombs 30g / Apple 30g', 'Wacky Tape / Grape 15g', \n",
    "               'Wacky Tape / Blueberry 15g', 'Wacky Tape / Strawberry 16g', 'Fizzers 12g / Strawberry 12g Unit', \n",
    "               'Sour Faces Gumballs 5/35g', \n",
    "               'Fizzers 12g / Creaming Soda 12g Unit', 'Fizzers 12g / Sour Strawberry 12g Unit', 'Busters', \n",
    "               'Jersey Caramel 500g (Manufacturers Clearance)', 'Gummy Food / Unit', 'Vimto Original Lollipops', \n",
    "               'Dubble Bubble Gum unit', \n",
    "               \"Super Tattoo's\", 'Sour Brain Bubble Gum', 'Raspberry Licorice Bits NAFNAC 500g (Manufacturers Clearance)', \n",
    "               'Swizzels Love Hearts mini 11g', 'Swizzels Luscious Lollies / Single Pop', 'Rockets (Single)', 'Zombie Chews 28g / Grape', \n",
    "               'Zombie Chews 28g / Sour Blue Raspberry', 'Zombie Chews 28g / Cola', 'JoJo Jelly Sour Sticks / Tutti Frutti', \n",
    "               'JoJo Jelly Sour Sticks / Cola', 'JoJo Jelly Sour Sticks / Apple', 'Sour Bombs 30g / Strawberry 30g', \n",
    "               'JoJo Jelly Sour Sticks / Raspberry', 'JoJo Jelly Sour Sticks / Strawberry', 'Gummy Ball 3D / Eyeball', \n",
    "               'Gummy Ball 3D / Football', 'Gummy Ball 3D / Expressions', 'Dobson Mega Lollipop Singles 22g / Blue Raspberry', \n",
    "               'Starburst & Skittles Variety Mini Packs', 'Gummy Ball 3D / Zombie', 'Marshmallow Seconds 1kg (Manufacturers Clearance)', \n",
    "               'Halloween Monster Mix / Single unit', 'Forest Drop Seconds 500g (Manufacturers Clearance)',\n",
    "               'Discount', 'Paper Checkout Bags']\n"
   ]
  },
  {
   "cell_type": "code",
   "execution_count": null,
   "metadata": {},
   "outputs": [],
   "source": [
    "items_to_remove = ['Paper Checkout Bags','Discount', 'Clearance']\n",
    "\n",
    "filtered_df = weekdays[~weekdays['Details'].isin(items_to_remove)]"
   ]
  },
  {
   "cell_type": "code",
   "execution_count": null,
   "metadata": {},
   "outputs": [],
   "source": [
    "# Filtering out rows not in items_to_remove list\n",
    "filtered_df = weekdays[~weekdays['Details'].isin(promo_items)]"
   ]
  },
  {
   "cell_type": "code",
   "execution_count": null,
   "metadata": {},
   "outputs": [],
   "source": [
    "filtered_df.shape"
   ]
  },
  {
   "cell_type": "code",
   "execution_count": null,
   "metadata": {},
   "outputs": [],
   "source": [
    "# Ensure 'Quantity' is integer and handle NaNs\n",
    "filtered_df['Quantity'] = filtered_df['Quantity'].fillna(0).astype(int)\n",
    "\n",
    "# Repeat 'Details' by 'Quantity' to calculate the real item quantity sold in each row\n",
    "repeated_details = filtered_df.apply(lambda row: [row['Details']] * row['Quantity'], axis=1)\n",
    "\n",
    "# Flatten the list of lists\n",
    "flattened_details = [item for sublist in repeated_details for item in sublist]\n",
    "\n",
    "# Calculate value counts\n",
    "details_counts = pd.Series(flattened_details).value_counts()\n",
    "\n",
    "details_counts.columns = ['NameofProduct', 'PurchaseFrequencyDuringHolidays']"
   ]
  },
  {
   "cell_type": "code",
   "execution_count": null,
   "metadata": {},
   "outputs": [],
   "source": [
    "details_counts.to_csv('HighestProductsSoldDuringHolidays.csv')"
   ]
  },
  {
   "cell_type": "code",
   "execution_count": null,
   "metadata": {},
   "outputs": [],
   "source": [
    "sales_line_df = filtered_df[['ReceiptNumber', 'Details']]"
   ]
  },
  {
   "cell_type": "code",
   "execution_count": null,
   "metadata": {},
   "outputs": [],
   "source": [
    "# Convert the transaction data into a one-hot encoded format\n",
    "# Get unique items\n",
    "unique_items = sales_line_df['Details'].unique()\n",
    "# Transform to Table Format (One-Hot Encoding)\n",
    "df_retail_txn_table = sales_line_df.pivot_table(index='ReceiptNumber', columns='Details', aggfunc='size', fill_value=0)\n",
    "df_retail_txn_table"
   ]
  },
  {
   "cell_type": "code",
   "execution_count": null,
   "metadata": {},
   "outputs": [],
   "source": [
    "# You can see we have the count, which may be >1 for some cases. We'll change this to binary to align with the format.\n",
    "df_retail_txn_table = (df_retail_txn_table > 0).astype(int) # This one sets all 1+ values to True & convert it to 1\n",
    "df_retail_txn_table"
   ]
  },
  {
   "cell_type": "code",
   "execution_count": null,
   "metadata": {},
   "outputs": [],
   "source": [
    "# We will first convert the DataFrame to have Boolean (True/False) instead of 1/0\n",
    "df_retail_final=(df_retail_txn_table > 0)\n",
    "df_retail_final"
   ]
  },
  {
   "cell_type": "code",
   "execution_count": null,
   "metadata": {},
   "outputs": [],
   "source": [
    "# Import necessary libraries\n",
    "import pandas as pd\n",
    "from mlxtend.frequent_patterns import apriori\n",
    "from mlxtend.frequent_patterns import association_rules\n",
    "import seaborn as sns"
   ]
  },
  {
   "cell_type": "code",
   "execution_count": null,
   "metadata": {},
   "outputs": [],
   "source": [
    "# Apply the Apriori algorithm to find frequent itemsets\n",
    "min_support = 0.003  # Minimum support threshold - change this number and run again\n",
    "frequent_itemsets = apriori(df_retail_final, min_support=min_support, use_colnames=True)\n",
    "frequent_itemsets"
   ]
  },
  {
   "cell_type": "code",
   "execution_count": null,
   "metadata": {},
   "outputs": [],
   "source": [
    "# Discover association rules\n",
    "min_confidence = 0.01  # Minimum confidence threshold\n",
    "rules = association_rules(frequent_itemsets, metric='confidence', min_threshold=min_confidence)\n",
    "rules"
   ]
  },
  {
   "cell_type": "code",
   "execution_count": null,
   "metadata": {},
   "outputs": [],
   "source": [
    "rules.head(50)"
   ]
  },
  {
   "cell_type": "code",
   "execution_count": null,
   "metadata": {},
   "outputs": [],
   "source": [
    "# Let us compile a final list with some filter, calculation & sorting\n",
    "final_rules=rules[(rules['lift']>1)&(rules['support']>=0.001)&(rules['confidence']>=0.01)]\n",
    "# Determine number of items in X => predicting number of items in Y\n",
    "final_rules=final_rules.copy() # this step creates an independent list instead of a view on rules from above\n",
    "# We capture the number of items in the list of each antecedent/consequent set using 'len' function for each row\n",
    "final_rules['antecedent_count']=final_rules['antecedents'].apply(len)\n",
    "final_rules['consequent_count']=final_rules['consequents'].apply(len) #X\n",
    "\n",
    "# Apply some rounding and sorting on Lift\n",
    "final_rules=round(final_rules,2).sort_values(by=['lift', 'confidence'], ascending=[False, False])\n",
    "\n",
    "# Preserve relevant columns only\n",
    "final_rules=final_rules[['antecedents', 'antecedent_count', 'consequents', 'consequent_count', 'support', 'confidence', 'lift']]\n",
    "final_rules"
   ]
  },
  {
   "cell_type": "code",
   "execution_count": null,
   "metadata": {},
   "outputs": [],
   "source": [
    "final_rules.to_csv('weekdays.csv')"
   ]
  }
 ],
 "metadata": {
  "kernelspec": {
   "display_name": "base",
   "language": "python",
   "name": "python3"
  },
  "language_info": {
   "codemirror_mode": {
    "name": "ipython",
    "version": 3
   },
   "file_extension": ".py",
   "mimetype": "text/x-python",
   "name": "python",
   "nbconvert_exporter": "python",
   "pygments_lexer": "ipython3",
   "version": "3.10.9"
  }
 },
 "nbformat": 4,
 "nbformat_minor": 2
}
