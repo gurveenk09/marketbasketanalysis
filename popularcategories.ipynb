{
 "cells": [
  {
   "cell_type": "markdown",
   "metadata": {},
   "source": [
    "# Import necessary packages and load data\n"
   ]
  },
  {
   "cell_type": "code",
   "execution_count": null,
   "metadata": {},
   "outputs": [],
   "source": [
    "import pandas as pd\n",
    "\n",
    "df = pd.read_csv('ls_new.csv')\n",
    "\n",
    "df"
   ]
  },
  {
   "cell_type": "markdown",
   "metadata": {},
   "source": [
    "# Exploratory Data Analysis\n"
   ]
  },
  {
   "cell_type": "code",
   "execution_count": null,
   "metadata": {},
   "outputs": [],
   "source": [
    "df['ReceiptNumber'].nunique()"
   ]
  },
  {
   "cell_type": "code",
   "execution_count": null,
   "metadata": {},
   "outputs": [],
   "source": [
    "items_to_remove = ['Paper Checkout Bags','Discount', 'Clearance']\n",
    "\n",
    "filtered_df = df[~df['Details'].isin(items_to_remove)]"
   ]
  },
  {
   "cell_type": "markdown",
   "metadata": {},
   "source": [
    "## Popularity by Category"
   ]
  },
  {
   "cell_type": "code",
   "execution_count": null,
   "metadata": {},
   "outputs": [],
   "source": [
    "# Finding the most popular in chocolate buttons\n",
    "# Filter the DataFrame for rows where 'Details' includes 'Chocolate Buttons'\n",
    "chocolate_buttons_df = filtered_df[filtered_df['Details'].str.contains('Chocolate Buttons', case=False, na=False)]\n",
    "\n",
    "# Calculate the sum of the 'Quantity' column for these rows\n",
    "total_quantity = chocolate_buttons_df['Quantity'].sum()\n",
    "\n"
   ]
  },
  {
   "cell_type": "code",
   "execution_count": null,
   "metadata": {},
   "outputs": [],
   "source": [
    "chocolate_buttons_df['Details'].value_counts()"
   ]
  },
  {
   "cell_type": "code",
   "execution_count": null,
   "metadata": {},
   "outputs": [],
   "source": [
    "# Most popular jelly beans\n",
    "# # Filter the DataFrame for rows where 'Details' includes 'Chocolate Buttons'\n",
    "jelly_beans_df = filtered_df[filtered_df['Details'].str.contains('Jelly Beans', case=False, na=False)]"
   ]
  },
  {
   "cell_type": "code",
   "execution_count": null,
   "metadata": {},
   "outputs": [],
   "source": [
    "jelly_beans_df['Details'].value_counts()"
   ]
  },
  {
   "cell_type": "code",
   "execution_count": null,
   "metadata": {},
   "outputs": [],
   "source": [
    "# Filter the DataFrame for rows where 'Details' includes 'lollipops'\n",
    "lollipops_df = filtered_df[filtered_df['Details'].str.contains('Lollipops', case=False, na=False)]"
   ]
  },
  {
   "cell_type": "code",
   "execution_count": null,
   "metadata": {},
   "outputs": [],
   "source": [
    "lollipops_df['Details'].value_counts()"
   ]
  },
  {
   "cell_type": "code",
   "execution_count": null,
   "metadata": {},
   "outputs": [],
   "source": [
    "#Licorice allsorts\n",
    "lico_allsorts = filtered_df[filtered_df['Details'].str.contains('Licorice Allsorts', case=False, na=False)]"
   ]
  },
  {
   "cell_type": "code",
   "execution_count": null,
   "metadata": {},
   "outputs": [],
   "source": [
    "lico_allsorts['Details'].value_counts()"
   ]
  },
  {
   "cell_type": "code",
   "execution_count": null,
   "metadata": {},
   "outputs": [],
   "source": [
    "# Warheads soda popularity and units sold\n",
    "warheads = filtered_df[filtered_df['Details'].str.contains('Warheads Sour Soda Can  355ml', case=False, na=False)]"
   ]
  },
  {
   "cell_type": "code",
   "execution_count": null,
   "metadata": {},
   "outputs": [],
   "source": [
    "warheads['Details'].value_counts()"
   ]
  },
  {
   "cell_type": "code",
   "execution_count": null,
   "metadata": {},
   "outputs": [],
   "source": [
    "# Most popular in Dutch Licorice\n",
    "dc = filtered_df[filtered_df['Details'].str.contains('Dutch Licorice', case=False, na=False)]"
   ]
  },
  {
   "cell_type": "code",
   "execution_count": null,
   "metadata": {},
   "outputs": [],
   "source": [
    "dc['Details'].value_counts()"
   ]
  },
  {
   "cell_type": "code",
   "execution_count": null,
   "metadata": {},
   "outputs": [],
   "source": [
    "# Ensure 'Quantity' is integer and handle NaNs\n",
    "filtered_df['Quantity'] = filtered_df['Quantity'].fillna(0).astype(int)\n",
    "\n",
    "# Repeat 'Details' by 'Quantity' to calculate the real item quantity sold in each row\n",
    "repeated_details = filtered_df.apply(lambda row: [row['Details']] * row['Quantity'], axis=1)\n",
    "\n",
    "# Flatten the list of lists\n",
    "flattened_details = [item for sublist in repeated_details for item in sublist]\n",
    "\n",
    "# Calculate value counts\n",
    "details_counts = pd.Series(flattened_details).value_counts().reset_index()\n",
    "\n",
    "details_counts.columns = ['NameofProduct', 'PurchaseFrequencyOverall']"
   ]
  },
  {
   "cell_type": "code",
   "execution_count": null,
   "metadata": {},
   "outputs": [],
   "source": [
    "# Creating an explicit copy if df is a slice of another DataFrame\n",
    "df_copy = details_counts.copy()\n",
    "\n",
    "# Function to clean the product names\n",
    "def clean_product_name(name):\n",
    "    parts = name.split(' / ')\n",
    "    return parts[0] if len(parts) > 1 else name\n",
    "\n",
    "# Apply the function to the DataFrame using .loc\n",
    "df_copy.loc[:, 'NameofProduct'] = df_copy['NameofProduct'].apply(clean_product_name)\n",
    "\n",
    "# Display the updated DataFrame\n",
    "print(df_copy)"
   ]
  },
  {
   "cell_type": "code",
   "execution_count": null,
   "metadata": {},
   "outputs": [],
   "source": [
    "df_copy.rename(columns={'NameofProduct': 'name'}, inplace=True)"
   ]
  },
  {
   "cell_type": "markdown",
   "metadata": {},
   "source": [
    "# Exporting Product Category"
   ]
  },
  {
   "cell_type": "code",
   "execution_count": null,
   "metadata": {},
   "outputs": [],
   "source": [
    "categories = pd.read_csv('product-export.csv')\n",
    "categories"
   ]
  },
  {
   "cell_type": "code",
   "execution_count": null,
   "metadata": {},
   "outputs": [],
   "source": [
    "categories_small = categories[['name','product_category']]"
   ]
  },
  {
   "cell_type": "code",
   "execution_count": null,
   "metadata": {},
   "outputs": [],
   "source": [
    "categories_no_duplicates = categories_small.drop_duplicates(subset=['name'])"
   ]
  },
  {
   "cell_type": "markdown",
   "metadata": {},
   "source": [
    "# Merging Transactions with Product Categories"
   ]
  },
  {
   "cell_type": "code",
   "execution_count": null,
   "metadata": {},
   "outputs": [],
   "source": [
    "merged_df = pd.merge(df_copy, categories_no_duplicates, how='left', on='name')"
   ]
  },
  {
   "cell_type": "code",
   "execution_count": null,
   "metadata": {},
   "outputs": [],
   "source": [
    "merged_df"
   ]
  },
  {
   "cell_type": "code",
   "execution_count": null,
   "metadata": {},
   "outputs": [],
   "source": [
    "merged_df.to_csv('popularcategories.csv')"
   ]
  },
  {
   "cell_type": "code",
   "execution_count": null,
   "metadata": {},
   "outputs": [],
   "source": [
    "# Convert 'product_category' NaN values to a placeholder if necessary (e.g., 'Unknown')\n",
    "merged_df['product_category'].fillna('Unknown', inplace=True)\n",
    "\n",
    "# Group by 'product_category' and sum the 'PurchaseFrequencyOverall'\n",
    "category_summary = merged_df.groupby('product_category')['PurchaseFrequencyOverall'].sum().reset_index()\n",
    "\n",
    "# Rename columns for clarity\n",
    "category_summary.columns = ['ProductCategory', 'TotalProductsSold']\n",
    "\n",
    "# Print the summary DataFrame\n",
    "print(category_summary)"
   ]
  },
  {
   "cell_type": "code",
   "execution_count": null,
   "metadata": {},
   "outputs": [],
   "source": [
    "category_summary.to_clipboard(index=False)"
   ]
  }
 ],
 "metadata": {
  "kernelspec": {
   "display_name": "base",
   "language": "python",
   "name": "python3"
  },
  "language_info": {
   "codemirror_mode": {
    "name": "ipython",
    "version": 3
   },
   "file_extension": ".py",
   "mimetype": "text/x-python",
   "name": "python",
   "nbconvert_exporter": "python",
   "pygments_lexer": "ipython3",
   "version": "3.10.9"
  }
 },
 "nbformat": 4,
 "nbformat_minor": 2
}
